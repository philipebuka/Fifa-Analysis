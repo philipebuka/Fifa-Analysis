{
 "cells": [
  {
   "cell_type": "markdown",
   "metadata": {},
   "source": [
    "##Things I want to understand in OOP\n",
    "Class:\n",
    "Class Object:\n",
    "Instance Object:\n",
    "Methods:\n",
    "attributes:"
   ]
  },
  {
   "cell_type": "code",
   "execution_count": 30,
   "metadata": {},
   "outputs": [],
   "source": [
    "def roman_conv(fig):\n",
    "    roman_figs = {'I':1,'V':5,'X':10,'L':50,'C':100,'D':500,'M':1000}\n",
    "    rom_val = []\n",
    "    fig_list = list(fig)\n",
    "    for i in fig_list:\n",
    "        if i not in roman_figs:\n",
    "            print(f'your input is not a letter in the roman figures, iput letters from {roman_figs.keys()}')\n",
    "        else:    \n",
    "            rom_val.append(roman_figs[i])\n",
    "    return sum(rom_val)       \n"
   ]
  },
  {
   "cell_type": "code",
   "execution_count": 32,
   "metadata": {},
   "outputs": [
    {
     "data": {
      "text/plain": [
       "6"
      ]
     },
     "execution_count": 32,
     "metadata": {},
     "output_type": "execute_result"
    }
   ],
   "source": [
    "roman_conv('IV')"
   ]
  },
  {
   "cell_type": "code",
   "execution_count": 34,
   "metadata": {},
   "outputs": [
    {
     "name": "stdout",
     "output_type": "stream",
     "text": [
      "ty\n"
     ]
    }
   ],
   "source": [
    "statement = 'coconbility'\n",
    "print(statement[-2:])"
   ]
  },
  {
   "cell_type": "code",
   "execution_count": null,
   "metadata": {},
   "outputs": [],
   "source": [
    "class Person: #class object\n",
    "    \"This is a person class\"\n",
    "    age = 10 #class \n",
    "\n",
    "    def greet(self): #class method\n",
    "        print('Hello')\n",
    "\n",
    "\n",
    "# Output: 10\n",
    "print(Person.age)\n",
    "\n",
    "# Output: <function Person.greet>\n",
    "print(Person.greet('self'))\n",
    "\n",
    "# Output: \"This is a person class\"\n",
    "#print(Person.__doc__)"
   ]
  },
  {
   "cell_type": "code",
   "execution_count": null,
   "metadata": {},
   "outputs": [],
   "source": [
    "class Person:\n",
    "    \"This is a person class\"\n",
    "    age = 10\n",
    "\n",
    "    def greet(self):\n",
    "        print('Hello')\n",
    "\n",
    "\n",
    "# create a new object of Person class\n",
    "harry = Person()\n",
    "\n",
    "# Output: <function Person.greet>\n",
    "print(Person.greet)\n",
    "\n",
    "# Output: <bound method Person.greet of <__main__.Person object>>\n",
    "print(harry.greet)\n",
    "\n",
    "# Calling object's greet() method\n",
    "# Output: Hello\n",
    "harry.greet()"
   ]
  }
 ],
 "metadata": {
  "kernelspec": {
   "display_name": "Python 3.9.12 ('base')",
   "language": "python",
   "name": "python3"
  },
  "language_info": {
   "codemirror_mode": {
    "name": "ipython",
    "version": 3
   },
   "file_extension": ".py",
   "mimetype": "text/x-python",
   "name": "python",
   "nbconvert_exporter": "python",
   "pygments_lexer": "ipython3",
   "version": "3.9.12"
  },
  "orig_nbformat": 4,
  "vscode": {
   "interpreter": {
    "hash": "263930470851f494f0ed2879c35b57985588df20f9e529b86e97dd5eb9ddc466"
   }
  }
 },
 "nbformat": 4,
 "nbformat_minor": 2
}
